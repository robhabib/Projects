{
 "cells": [
  {
   "cell_type": "code",
   "execution_count": 13,
   "metadata": {},
   "outputs": [
    {
     "name": "stdout",
     "output_type": "stream",
     "text": [
      "Sure\n",
      "cats dogs\n"
     ]
    }
   ],
   "source": [
    "import random\n",
    "\n",
    "def getAnswer(answerNumber):\n",
    "    if answerNumber < 9:\n",
    "        return 'Sure'        \n",
    "    else:\n",
    "        return 'No'\n",
    "print(getAnswer(random.randint(1,9)))\n",
    "\n",
    "print('cats','dogs',sep=\" \")"
   ]
  },
  {
   "cell_type": "code",
   "execution_count": 22,
   "metadata": {},
   "outputs": [
    {
     "name": "stdout",
     "output_type": "stream",
     "text": [
      "Thinking of a number betw 1 - 20\n",
      "take a guess\n",
      "20\n",
      "too high!\n",
      "take a guess\n",
      "10\n",
      "your guess is too low\n",
      "take a guess\n",
      "4\n",
      "your guess is too low\n",
      "take a guess\n",
      "7\n",
      "your guess is too low\n",
      "take a guess\n",
      "9\n",
      "your guess is too low\n",
      "take a guess\n",
      "11\n",
      "your guess is too low\n"
     ]
    }
   ],
   "source": [
    "# Number guessing game\n",
    "\"\"\"Game to try and guess a number stored\"\"\"\n",
    "\n",
    "secretNumber = random.randint(1,20)\n",
    "print(\"Thinking of a number betw 1 - 20\")\n",
    "for guessesTaken in range (1,7): #ask player to guess <=6x\n",
    "    print(\"take a guess\")\n",
    "    guess = int(input())\n",
    "    \n",
    "    if guess<secretNumber:\n",
    "        print(\"your guess is too low\")\n",
    "    elif guess>secretNumber:\n",
    "        print(\"too high!\")\n",
    "    elif guess==secretNumber:\n",
    "        print(\"good guess lucky loser\")\n",
    "        break\n",
    "\n"
   ]
  }
 ],
 "metadata": {
  "kernelspec": {
   "display_name": "Python 3",
   "language": "python",
   "name": "python3"
  },
  "language_info": {
   "codemirror_mode": {
    "name": "ipython",
    "version": 3
   },
   "file_extension": ".py",
   "mimetype": "text/x-python",
   "name": "python",
   "nbconvert_exporter": "python",
   "pygments_lexer": "ipython3",
   "version": "3.6.5"
  }
 },
 "nbformat": 4,
 "nbformat_minor": 2
}
