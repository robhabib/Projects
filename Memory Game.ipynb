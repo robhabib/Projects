{
 "cells": [
  {
   "cell_type": "code",
   "execution_count": 4,
   "metadata": {},
   "outputs": [
    {
     "ename": "ModuleNotFoundError",
     "evalue": "No module named 'SimpleGUICS2Pygame'",
     "output_type": "error",
     "traceback": [
      "\u001b[0;31m---------------------------------------------------------------------------\u001b[0m",
      "\u001b[0;31mModuleNotFoundError\u001b[0m                       Traceback (most recent call last)",
      "\u001b[0;32m<ipython-input-4-cd436a982c25>\u001b[0m in \u001b[0;36m<module>\u001b[0;34m()\u001b[0m\n\u001b[1;32m      2\u001b[0m \u001b[0;31m# Memory_game in codeskulpter\u001b[0m\u001b[0;34m\u001b[0m\u001b[0;34m\u001b[0m\u001b[0m\n\u001b[1;32m      3\u001b[0m \u001b[0;34m\u001b[0m\u001b[0m\n\u001b[0;32m----> 4\u001b[0;31m \u001b[0;32mimport\u001b[0m \u001b[0mSimpleGUICS2Pygame\u001b[0m\u001b[0;34m.\u001b[0m\u001b[0msimpleguics2pygame\u001b[0m \u001b[0;32mas\u001b[0m \u001b[0msimplegui\u001b[0m\u001b[0;34m\u001b[0m\u001b[0m\n\u001b[0m\u001b[1;32m      5\u001b[0m \u001b[0;32mimport\u001b[0m \u001b[0mrandom\u001b[0m\u001b[0;34m\u001b[0m\u001b[0m\n\u001b[1;32m      6\u001b[0m \u001b[0;34m\u001b[0m\u001b[0m\n",
      "\u001b[0;31mModuleNotFoundError\u001b[0m: No module named 'SimpleGUICS2Pygame'"
     ]
    }
   ],
   "source": [
    "\n",
    "# Memory_game in codeskulpter\n",
    "\n",
    "import simplegui\n",
    "import random\n",
    "\n",
    "def create(card):\n",
    "    while len(card) != 8:\n",
    "        num = random.randrange(0 ,8)\n",
    "        if num not in card:\n",
    "            card.append(num)\n",
    "    return card\n",
    "card3 = []   \n",
    "card1 = []\n",
    "card2 = []\n",
    "po = []\n",
    "card1 = create(card1)\n",
    "card2 = create(card2)\n",
    "card1.extend(card2)\n",
    "random.shuffle(card1)\n",
    "print(card1)\n",
    "state = 0\n",
    "exposed = []\n",
    "for i in range(0,16,1):\n",
    "    exposed.insert(i, False)\n",
    "\n",
    "def mouseclick(pos):\n",
    "    global state, card3, po\n",
    "    state += 1\n",
    "    ind = pos[0]//50\n",
    "    card3.append(card1[ind])\n",
    "    po.append(ind)\n",
    "    if exposed[ind] == False and state < 2:\n",
    "        exposed[ind] = True\n",
    "    elif exposed[ind] == False and state == 2:\n",
    "        exposed[ind] = True\n",
    "    if state == 3 and card3[0] == card3[1]:\n",
    "        card3 = []\n",
    "        po = []\n",
    "        state = 0\n",
    "    elif state == 3:\n",
    "        state = 0\n",
    "        for i in po:\n",
    "            exposed[i] = False\n",
    "        card3 = []\n",
    "        po = []\n",
    "                       \n",
    "def draw(canvas):\n",
    "    global card1\n",
    "    gap = 0\n",
    "    for i in range(0,16,1):\n",
    "        if exposed[i] == False:\n",
    "            canvas.draw_polygon( [ [0 + gap,0], [0 + gap,100] ,[50 + gap,100],[50 + gap,0]],1 ,\"Black\",\"Green\")\n",
    "        elif exposed[i] == True:\n",
    "            canvas.draw_text( str(card1[i]), [ 15 + gap, 65], 50, 'White')\n",
    "        gap += 50\n",
    "\n",
    "frame = simplegui.create_frame(\"Memory\", 800, 100)\n",
    "\n",
    "frame.set_mouseclick_handler(mouseclick)\n",
    "frame.set_draw_handler(draw)\n",
    "\n",
    "frame.start()"
   ]
  }
 ],
 "metadata": {
  "kernelspec": {
   "display_name": "Python 3",
   "language": "python",
   "name": "python3"
  },
  "language_info": {
   "codemirror_mode": {
    "name": "ipython",
    "version": 3
   },
   "file_extension": ".py",
   "mimetype": "text/x-python",
   "name": "python",
   "nbconvert_exporter": "python",
   "pygments_lexer": "ipython3",
   "version": "3.6.5"
  }
 },
 "nbformat": 4,
 "nbformat_minor": 2
}
