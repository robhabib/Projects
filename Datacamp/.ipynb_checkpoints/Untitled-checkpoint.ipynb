{
 "cells": [
  {
   "cell_type": "markdown",
   "metadata": {},
   "source": [
    "## Datacamp training program\n",
    "    Let's learn! :)"
   ]
  },
  {
   "cell_type": "code",
   "execution_count": 9,
   "metadata": {},
   "outputs": [
    {
     "name": "stdout",
     "output_type": "stream",
     "text": [
      "<class 'tuple'>\n"
     ]
    }
   ],
   "source": [
    "# defining a function\n",
    "def square(x):\n",
    "    \"\"\"return the square of any value\"\"\"\n",
    "    new_value = x**2\n",
    "    return new_value\n",
    "\n",
    "def raise_to_value(x,y):\n",
    "    \"\"\"raise a number x to the power of y\"\"\"\n",
    "    return x**y\n",
    "\n",
    "raise_to_value(4,5)\n",
    "\n",
    "#constructing a tuple\n",
    "even_nbs = (2,4,6)\n",
    "print(type(even_nbs))\n"
   ]
  }
 ],
 "metadata": {
  "kernelspec": {
   "display_name": "Python 3",
   "language": "python",
   "name": "python3"
  },
  "language_info": {
   "codemirror_mode": {
    "name": "ipython",
    "version": 3
   },
   "file_extension": ".py",
   "mimetype": "text/x-python",
   "name": "python",
   "nbconvert_exporter": "python",
   "pygments_lexer": "ipython3",
   "version": "3.6.5"
  }
 },
 "nbformat": 4,
 "nbformat_minor": 2
}
