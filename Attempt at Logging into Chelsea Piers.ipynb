{
 "cells": [
  {
   "cell_type": "code",
   "execution_count": null,
   "metadata": {},
   "outputs": [],
   "source": [
    "# selenium for web driving\n",
    "#!pip install selenium\n",
    "import selenium\n",
    "from selenium import webdriver\n",
    "\n",
    "# time for pausing between navigation\n",
    "import time\n",
    "\n",
    "# Datetime for recording time of submission\n",
    "import datetime\n",
    "\n",
    "# os for file management\n",
    "import os\n",
    "\n",
    "def submit_assignment(file_tup):\n",
    "\t# Using Chrome to access web\n",
    "\tdriver = webdriver.Firefox()\n",
    "\n",
    "\ttime.sleep(5)\n",
    "\n",
    "\t# Open the website\n",
    "driver.get('https://google.com')\n",
    "\n",
    "\n"
   ]
  }
 ],
 "metadata": {
  "kernelspec": {
   "display_name": "Python 3",
   "language": "python",
   "name": "python3"
  },
  "language_info": {
   "codemirror_mode": {
    "name": "ipython",
    "version": 3
   },
   "file_extension": ".py",
   "mimetype": "text/x-python",
   "name": "python",
   "nbconvert_exporter": "python",
   "pygments_lexer": "ipython3",
   "version": "3.6.5"
  }
 },
 "nbformat": 4,
 "nbformat_minor": 2
}
