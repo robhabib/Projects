{
 "cells": [
  {
   "cell_type": "markdown",
   "metadata": {},
   "source": [
    "# Screwing with your friends\n",
    "## Code to open random tabs on your browser\n",
    "\n",
    "youtube: https://www.youtube.com/results?search_query=python+fun"
   ]
  },
  {
   "cell_type": "code",
   "execution_count": 7,
   "metadata": {},
   "outputs": [
    {
     "name": "stdout",
     "output_type": "stream",
     "text": [
      "7\n"
     ]
    }
   ],
   "source": [
    "## screwing with friends\n",
    "\n",
    "import webbrowser\n",
    "import time\n",
    "import random\n",
    "\n",
    "#while True:\n",
    "sites = random.choice(['google.com', 'weather.com'])\n",
    "visit = \"https://{}\".format(sites)\n",
    "webbrowser.open(visit)\n",
    "seconds = random.randrange(5,10)\n",
    "print(seconds)\n",
    "#time.sleep(seconds)\n"
   ]
  }
 ],
 "metadata": {
  "kernelspec": {
   "display_name": "Python 3",
   "language": "python",
   "name": "python3"
  },
  "language_info": {
   "codemirror_mode": {
    "name": "ipython",
    "version": 3
   },
   "file_extension": ".py",
   "mimetype": "text/x-python",
   "name": "python",
   "nbconvert_exporter": "python",
   "pygments_lexer": "ipython3",
   "version": "3.6.5"
  }
 },
 "nbformat": 4,
 "nbformat_minor": 2
}
