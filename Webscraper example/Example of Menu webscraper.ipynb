{
 "cells": [
  {
   "cell_type": "markdown",
   "metadata": {},
   "source": [
    "## Simple webscrapig script to notify us of favourite food\n",
    "\n",
    "https://www.codementor.io/gergelykovcs/how-and-why-i-built-a-simple-web-scrapig-script-to-notify-us-about-our-favourite-food-fcrhuhn45\n"
   ]
  },
  {
   "cell_type": "code",
   "execution_count": 36,
   "metadata": {},
   "outputs": [
    {
     "name": "stdout",
     "output_type": "stream",
     "text": [
      "\n",
      "\n",
      "\n",
      "\n",
      "\n",
      "\n",
      "\n",
      "\n",
      "\n",
      "\n",
      "\n",
      "\n",
      "\n",
      "\n",
      "\n",
      "\n",
      "\n",
      "Menu\n",
      "\n",
      "\n",
      "\n",
      "\n",
      "\n",
      "\n",
      "document.addEventListener('DOMContentLoaded', function() {\n",
      "    Array.prototype.slice.call(document.querySelectorAll('a span[id^=\"cloak\"]')).forEach(function(span) {\n",
      "        span.innerText = span.textContent;\n",
      "    });\n",
      "});\n",
      "\t\n",
      "\n",
      "  (function(i,s,o,g,r,a,m){i['GoogleAnalyticsObject']=r;i[r]=i[r]||function(){\n",
      "  (i[r].q=i[r].q||[]).push(arguments)},i[r].l=1*new Date();a=s.createElement(o),\n",
      "  m=s.getElementsByTagName(o)[0];a.async=1;a.src=g;m.parentNode.insertBefore(a,m)\n",
      "  })(wi\n"
     ]
    }
   ],
   "source": [
    "#installing packages requires the console (equivalent); can only import once downloaded\n",
    "# !pip install beatifulsoup4\n",
    "# !pip install requests\n",
    "# !pip install smtplib\n",
    "\n",
    "import bs4, requests, smtplib\n",
    "\n",
    "#getPage object wil contain al the data downloaded from the website\n",
    "getPage = requests.get('http://www.tavernakyclades.com/astoria/menu')\n",
    "\n",
    "#to double check downloads happened; this will display an error msg if something goes wrong\n",
    "getPage.raise_for_status()\n",
    "\n",
    "#to see the data\n",
    "# print(getPage.text)\n",
    "\n",
    "#using Beautifulsoup to parse thru the data\n",
    "menu = bs4.BeautifulSoup(getPage.text, 'html.parser')\n",
    "foods = menu.get_text()\n",
    "print(foods[:500])\n",
    "\n",
    "\n",
    "\n",
    "\n",
    "\n"
   ]
  }
 ],
 "metadata": {
  "kernelspec": {
   "display_name": "Python 3",
   "language": "python",
   "name": "python3"
  },
  "language_info": {
   "codemirror_mode": {
    "name": "ipython",
    "version": 3
   },
   "file_extension": ".py",
   "mimetype": "text/x-python",
   "name": "python",
   "nbconvert_exporter": "python",
   "pygments_lexer": "ipython3",
   "version": "3.6.5"
  }
 },
 "nbformat": 4,
 "nbformat_minor": 2
}
