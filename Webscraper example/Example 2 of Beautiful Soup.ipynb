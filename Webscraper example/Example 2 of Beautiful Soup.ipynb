{
 "cells": [
  {
   "cell_type": "markdown",
   "metadata": {},
   "source": [
    "# beautiful soup examples to scrap websites\n",
    "    we need beautifulsoup and urllib2 to open the URL\n"
   ]
  },
  {
   "cell_type": "code",
   "execution_count": 34,
   "metadata": {},
   "outputs": [
    {
     "name": "stdout",
     "output_type": "stream",
     "text": [
      "https://www.python.org/\n",
      "nginx\n",
      "Get the length: 48970\n"
     ]
    }
   ],
   "source": [
    "import urllib.request\n",
    "from bs4 import BeautifulSoup\n",
    "\n",
    "# url example\n",
    "url = urllib.request.urlopen(\"https://python.org\")\n",
    "print(url.geturl())\n",
    "print(url.info()['server'])\n",
    "\n",
    "#getting the embeded data\n",
    "html = url.read()\n",
    "print(\"Get the length:\",len(html))\n",
    "\n"
   ]
  },
  {
   "cell_type": "code",
   "execution_count": 44,
   "metadata": {},
   "outputs": [],
   "source": [
    "# another example\n",
    "\n",
    "#file to be written to:\n",
    "file = \"downloaded_file.html\"\n",
    "\n",
    "url = \"https://www.pythonforbeginners.com/\"\n",
    "response = urllib.request.urlopen(url)\n",
    "\n",
    "#open previous file to write in it\n",
    "fh = open(file,\"wb\")    #it created one if didnt exist\n",
    "\n",
    "#read from request while writing to file\n",
    "fh.write(response.read())\n",
    "fh.close()\n"
   ]
  }
 ],
 "metadata": {
  "kernelspec": {
   "display_name": "Python 3",
   "language": "python",
   "name": "python3"
  },
  "language_info": {
   "codemirror_mode": {
    "name": "ipython",
    "version": 3
   },
   "file_extension": ".py",
   "mimetype": "text/x-python",
   "name": "python",
   "nbconvert_exporter": "python",
   "pygments_lexer": "ipython3",
   "version": "3.6.5"
  }
 },
 "nbformat": 4,
 "nbformat_minor": 2
}
