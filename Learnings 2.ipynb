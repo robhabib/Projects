{
 "cells": [
  {
   "cell_type": "markdown",
   "metadata": {},
   "source": [
    "## Learning how to code in Python using iPython\n",
    "\n",
    "https://www.kaggle.com/sohier/whirlwind-tour-of-python-index"
   ]
  },
  {
   "cell_type": "code",
   "execution_count": 6,
   "metadata": {},
   "outputs": [
    {
     "name": "stdout",
     "output_type": "stream",
     "text": [
      "0\n",
      "But I dont want any spam!\n",
      "SpamSpamSpamSpam\n"
     ]
    }
   ],
   "source": [
    "# learning how to code in Python\n",
    "\n",
    "spam_amount = 0\n",
    "print(spam_amount)\n",
    "spam_amount = spam_amount + 4\n",
    "if spam_amount > 0:\n",
    "    print(\"But I dont want any spam!\")\n",
    "viking_song = \"Spam\" * spam_amount\n",
    "print(viking_song)"
   ]
  },
  {
   "cell_type": "code",
   "execution_count": 7,
   "metadata": {},
   "outputs": [
    {
     "name": "stdout",
     "output_type": "stream",
     "text": [
      "10.0\n",
      "3\n",
      "808\n"
     ]
    }
   ],
   "source": [
    "print(float(10))\n",
    "print(int(3.33))\n",
    "# They can even be called on strings!\n",
    "print(int('807') + 1)"
   ]
  },
  {
   "cell_type": "code",
   "execution_count": 11,
   "metadata": {},
   "outputs": [
    {
     "data": {
      "text/plain": [
       "True"
      ]
     },
     "execution_count": 11,
     "metadata": {},
     "output_type": "execute_result"
    }
   ],
   "source": [
    "a = [1,2,3]\n",
    "b = [1,2,3]\n",
    "a==b\n",
    "a is b #point to 2 different objects\n",
    "1 in a #now that is fantastic"
   ]
  },
  {
   "cell_type": "code",
   "execution_count": 178,
   "metadata": {},
   "outputs": [
    {
     "name": "stdout",
     "output_type": "stream",
     "text": [
      "1.0\n",
      "2.0\n"
     ]
    },
    {
     "data": {
      "text/plain": [
       "'w'"
      ]
     },
     "execution_count": 178,
     "metadata": {},
     "output_type": "execute_result"
    }
   ],
   "source": [
    "a =complex(1,2)\n",
    "print(a.real)\n",
    "print(a.imag)\n",
    "\n",
    "message = \"what do you like?\"\n",
    "response = \"spam\"\n",
    "len(response)\n",
    "response.upper()\n",
    "message + response\n",
    "message[0]"
   ]
  },
  {
   "cell_type": "code",
   "execution_count": 182,
   "metadata": {},
   "outputs": [
    {
     "name": "stdout",
     "output_type": "stream",
     "text": [
      "[2, 3, 5, 7, 11]\n",
      "[2, 'three', 1.34, [0, 1, 3]]\n"
     ]
    },
    {
     "data": {
      "text/plain": [
       "[11, 7, 5, 3, 2]"
      ]
     },
     "execution_count": 182,
     "metadata": {},
     "output_type": "execute_result"
    }
   ],
   "source": [
    "#built-in data structures n1: Lists\n",
    "L = [2, 3, 5, 7]\n",
    "len(L)\n",
    "L.append(11)\n",
    "print(L)\n",
    "L + [13,15]\n",
    "L.sort()\n",
    "\n",
    "L2 = [2, \"three\", 1.34, [0,1,3]] #mixed sequence\n",
    "print(L2)\n",
    "\n",
    "#list indexing\n",
    "L[1]\n",
    "L[-2] #goes around in circle\n",
    "L[:3] #0 is assumed\n",
    "L[::2] #the 3rd element is the step size\n",
    "L[::-1] #in reverse\n"
   ]
  },
  {
   "cell_type": "code",
   "execution_count": 49,
   "metadata": {},
   "outputs": [
    {
     "name": "stdout",
     "output_type": "stream",
     "text": [
      "(1, 2, 3)\n"
     ]
    },
    {
     "data": {
      "text/plain": [
       "1"
      ]
     },
     "execution_count": 49,
     "metadata": {},
     "output_type": "execute_result"
    }
   ],
   "source": [
    "#built-in data structures n2: Tuples\n",
    "   #tuples can't be modified / immutable\n",
    "t = (1,2,3)\n",
    "print(t)\n",
    "len(t)\n",
    "t[0]\n",
    "\n",
    "#dictionary\n",
    "#set"
   ]
  },
  {
   "cell_type": "code",
   "execution_count": 52,
   "metadata": {},
   "outputs": [
    {
     "name": "stdout",
     "output_type": "stream",
     "text": [
      "-15 is negative\n",
      "2 3 5 7 0 1 2 3 4 5 6 7 8 9 "
     ]
    }
   ],
   "source": [
    "#control flow: elif\n",
    "\n",
    "x = -15\n",
    "\n",
    "if x == 0:\n",
    "    print(x, \"is zero\")\n",
    "elif x > 0:\n",
    "    print(x, \"is positive\")\n",
    "elif x < 0:\n",
    "    print(x, \"is negative\")\n",
    "else:\n",
    "    print(x, \"is unlike anything I've ever seen...\")\n",
    "\n",
    "\n",
    "#loops\n",
    "for N in [2, 3, 5, 7]:\n",
    "    print(N, end=' ') # print all on same line with a space\n",
    "\n",
    "for i in range(10):\n",
    "    print(i, end=' ')\n",
    "\n",
    "\n"
   ]
  },
  {
   "cell_type": "code",
   "execution_count": 75,
   "metadata": {},
   "outputs": [
    {
     "name": "stdout",
     "output_type": "stream",
     "text": [
      "phi =  1.618033988749895\n"
     ]
    },
    {
     "data": {
      "text/plain": [
       "[1, 2, 3, 4, 5, 6]"
      ]
     },
     "execution_count": 75,
     "metadata": {},
     "output_type": "execute_result"
    }
   ],
   "source": [
    "# function Fibanacci\n",
    "\n",
    "a = fibonacci(100)\n",
    "print(\"phi = \", a[-1]/a[-2]) #last on second last\n",
    "\n",
    "def fibonacci(N):\n",
    "    L = []\n",
    "    a, b = 0, 1\n",
    "    while len(L) < N:\n",
    "        a, b = b, a + b\n",
    "        L.append(a)\n",
    "    return L\n",
    "\n",
    "sorted([2,4,3,5,1,6])\n"
   ]
  },
  {
   "cell_type": "code",
   "execution_count": 127,
   "metadata": {},
   "outputs": [
    {
     "name": "stdout",
     "output_type": "stream",
     "text": [
      "3 4 5 6 7 8 9 10 11 12 2\n",
      "4\n",
      "6\n",
      "8\n",
      "0, 1, 2, 3, 4, 5, 6, 7, 8, 9, 0 2\n",
      "1 4\n",
      "2 6\n",
      "3 8\n",
      "4 10\n",
      "<zip object at 0x10eb3f3c8>\n",
      "(1, 'a') (2, 'b') (3, 'c') (4, 'd')\n"
     ]
    }
   ],
   "source": [
    "# iterators\n",
    "for i in range(10):\n",
    "    print(i+3, end=\" \")\n",
    "\n",
    "a = iter([2, 4, 6, 8, 10])\n",
    "print(next(a))\n",
    "print(next(a))\n",
    "print(next(a))\n",
    "print(next(a))\n",
    "\n",
    "# import function 'count' that acts as an infinite range\n",
    "from itertools import count\n",
    "for i in count():\n",
    "    if i >= 10:\n",
    "        break\n",
    "    print(i, end=', ')\n",
    "\n",
    "L = [2, 4, 6, 8, 10]\n",
    "for i, val in enumerate(L):\n",
    "    print(i,val)\n",
    "    \n",
    "L1 = (1, 2, 3, 4)\n",
    "L2 = ('a', 'b', 'c', 'd')\n",
    "z = zip(L1,L2)\n",
    "print(z) #prints just the object, you need the * operator\n",
    "print(*z)\n",
    "#(L1_new, L2_new) = zip(*z) #how to unzip\n"
   ]
  },
  {
   "cell_type": "code",
   "execution_count": 128,
   "metadata": {},
   "outputs": [
    {
     "name": "stdout",
     "output_type": "stream",
     "text": [
      "0 1 4 9 16 25 36 49 64 81 0 2 4 6 8 -\n",
      "0 1 2 3 4 5 6 7 8 9\n",
      "0 1 4 9 16 25 36 49 64 81\n"
     ]
    }
   ],
   "source": [
    "# find the first 10 square numbers\n",
    "square = lambda x: x ** 2  #lambdas are one time functions\n",
    "for val in map(square, range(10)):\n",
    "    print(val, end=' ')\n",
    "\n",
    "# find values up to 10 for which x % 2 is zero\n",
    "is_even = lambda x: x % 2 == 0   #define lambda function for even\n",
    "for val in filter(is_even, range(10)): #filter is even better since it passes-thru values that are true\n",
    "    print(val, end=' ')\n",
    "\n",
    "print(\"-\")\n",
    "print(*range(10)) #the * can be used to pass things into functions, works for any iterator\n",
    "print(*map(lambda x: x ** 2, range(10)))"
   ]
  },
  {
   "cell_type": "code",
   "execution_count": 148,
   "metadata": {},
   "outputs": [
    {
     "data": {
      "text/plain": [
       "{4: 16, 5: 25, 6: 36}"
      ]
     },
     "execution_count": 148,
     "metadata": {},
     "output_type": "execute_result"
    }
   ],
   "source": [
    "# list comprehension\n",
    "[2*i for i in range(20) if i%3>0] #now that is v nice!!\n",
    "\n",
    "L = []\n",
    "for n in range(10):\n",
    "    L.append(n**2)\n",
    "L\n",
    "# but a better way of expressing this instead of a for() loop is:\n",
    "[i**2 for i in range(12)]\n",
    "\n",
    "#multiple iteration\n",
    "[(i,j) for i in range(3) for j in range (2)] #like an iterated for loop\n",
    "\n",
    "#with conditionality\n",
    "[val if val % 2 else -val\n",
    " for val in range (20) if val % 3]\n",
    "\n",
    "#creating a set in the same way (a set contains no duplicates)\n",
    "{val**2 for val in range(5)}\n",
    "{val%3 for val in range(1000)}\n",
    "{val:val**2 for val in range(4,7)}"
   ]
  },
  {
   "cell_type": "code",
   "execution_count": 176,
   "metadata": {},
   "outputs": [
    {
     "name": "stdout",
     "output_type": "stream",
     "text": [
      "0 1 4 9 16 25 36 49 64 81 100 121 0 1 4 9 16 25 36 \n",
      "doing something in between\n",
      "49 64 81 100 121 \n",
      "2 3 5 7 11 13 17 19 23 29 31 37 41 43 47 53 59 61 67 71 73 79 83 89 97\n",
      "2 3 5 7\n"
     ]
    }
   ],
   "source": [
    "#generators (generators are like recipes, does not compute values until needed)\n",
    "[n ** 2 for n in range(12)] #lists uses brackets, generators use parentheses\n",
    "G =(n **2 for n in range(12))\n",
    "list(G)\n",
    "\n",
    "#generators can only be generated once, so we have to repaste the code to form them:\n",
    "G =(n **2 for n in range(12))\n",
    "for val in G:\n",
    "    print(val,end = ' ')\n",
    "\n",
    "#since can only be called on once, it can be useful to stop and restart an iteration:\n",
    "G = (n ** 2 for n in range(12))\n",
    "for n in G:\n",
    "    print(n, end=\" \")\n",
    "    if n>30: break\n",
    "print(\"\")\n",
    "print(\"doing something in between\")\n",
    "for n in G:\n",
    "    print(n, end=\" \")\n",
    "\n",
    "print(\"\")\n",
    "# for a more complicated generator, use yield (like return for a function)\n",
    "def gen_primes(N):\n",
    "    primes=set()\n",
    "    for n in range(2,N):\n",
    "        if all(n % p > 0 for p in primes):\n",
    "            primes.add(n)\n",
    "            yield n\n",
    "print(*gen_primes(100))\n",
    "    "
   ]
  },
  {
   "cell_type": "code",
   "execution_count": 188,
   "metadata": {},
   "outputs": [
    {
     "name": "stdout",
     "output_type": "stream",
     "text": [
      "Help on built-in function sum in module builtins:\n",
      "\n",
      "sum(iterable, start=0, /)\n",
      "    Return the sum of a 'start' value (default: 0) plus an iterable of numbers\n",
      "    \n",
      "    When the iterable is empty, return the start value.\n",
      "    This function is intended specifically for use with numeric values and may\n",
      "    reject non-numeric types.\n",
      "\n"
     ]
    }
   ],
   "source": [
    "#modules\n",
    "import math\n",
    "math.cos(math.pi) #--> to use the module you have to name it then '.'\n",
    "#you can import a module and name it to shorten the name like\n",
    "import numpy as np\n",
    "np.cos(np.pi)\n",
    "\n",
    "#Sometimes useful to import the entirety of the module contents into the local namespace\n",
    "from math import *\n",
    "\n",
    "#getting help\n",
    "help(sum)\n"
   ]
  },
  {
   "cell_type": "code",
   "execution_count": 240,
   "metadata": {
    "scrolled": true
   },
   "outputs": [
    {
     "name": "stdout",
     "output_type": "stream",
     "text": [
      "this is it; hope it's ok\n",
      "THE QUICK BROWN FOX\n",
      "The Quick Brown Fox\n",
      "The quick brown fox\n",
      "      this is the content\n",
      "4078\n",
      "the quick red fox jumped over a lazy dog\n",
      "the quick brown fox jumped over a lazy dog\n",
      "matsushima-ya\n",
      "aah matsushima-ya\n",
      "matsushima-ya\n",
      "\n",
      "\n",
      "Attempt at Logging into Chelsea Piers.ipynb\r\n",
      "Bond_MonitorFa-20JuneMay.ipynb\r\n",
      "Learnings 2.ipynb\r\n",
      "Learnings.ipynb\r\n",
      "Screwing with Friends.ipynb\r\n"
     ]
    }
   ],
   "source": [
    "# string manipulation\n",
    "x = \"this is it\"\n",
    "y = \"hope it's ok\"\n",
    "print(x+\"; \"+y)\n",
    "\n",
    "fox = \"tHe qUICk bROWN fox\"\n",
    "print(fox.upper())\n",
    "print(fox.title())\n",
    "print(fox.capitalize())\n",
    "\n",
    "l = \"      this is the content       \"\n",
    "print(l.rstrip()) #to remove the blanks on the right\n",
    "\n",
    "num = \"000000004078\"\n",
    "print(num.strip(\"0\")) #remove the 1st 0s but inside\n",
    "#you can add them back easily\n",
    "\n",
    "a = \"the quick brown fox jumped over a lazy dog\"\n",
    "a.find('fox') #or a.index\n",
    "a.find('bear') #returns -1 because it does not exist\n",
    "print(a.replace('brown', 'red'))\n",
    "print(a)\n",
    "\n",
    "# splitting strings\n",
    "a.partition('fox')\n",
    "len(a.partition('fox'))\n",
    "l.split()\n",
    "len(l.split())\n",
    "\n",
    "print(\"\\n\".join(['matsushima-ya', 'aah matsushima-ya', 'matsushima-ya']))\n",
    "\n",
    "# printing some numbers\n",
    "\"The value of pi is \" +str(np.pi)\n",
    "\"The value of pi is {0:0.3f}\".format(pi)\n",
    "\"\"\"First letter: {0}. Last letter: {1}\"\"\".format('A','Z')\n",
    "\"\"\"First letter: {first}. Last letter: {last}\"\"\".format(last='Z', first='A')\n",
    "\"pi = {0:0.3f}\".format(pi) #the 0 refers to the index of the value to be inserted. The : marks that format code will follow. The \".3f\" encodes the desired precision: three digis beyond the decimal point, floating-point format.\n",
    "\n",
    "\n",
    "# flexible matching with regular expressions\n",
    "print(\"\\n\")\n",
    "!ls *.ipynb #listing all the ipython notebooks in the folder\n"
   ]
  },
  {
   "cell_type": "code",
   "execution_count": 267,
   "metadata": {},
   "outputs": [
    {
     "name": "stdout",
     "output_type": "stream",
     "text": [
      "Attempt at Logging into Chelsea Piers.ipynb\n",
      "Bond_MonitorFa-20JuneMay.ipynb\n",
      "Learnings 2.ipynb\n",
      "Learnings.ipynb\n",
      "Screwing with Friends.ipynb\n",
      "\n",
      "\n",
      "'   ' matches\n",
      "'abc  ' does not match\n",
      "'   abc' matches\n",
      "'ccc   ' does not match\n",
      "' hello ' matches\n"
     ]
    },
    {
     "data": {
      "text/plain": [
       "'the quick brown BEAR jumped over a lazy dog'"
      ]
     },
     "execution_count": 267,
     "metadata": {},
     "output_type": "execute_result"
    }
   ],
   "source": [
    "# lets use the compiler for strings with the regular 're' module\n",
    "\n",
    "# flexible matching with regular expressions\n",
    "!ls *.ipynb #listing all the ipython notebooks in the folder\n",
    "\n",
    "a = \"the quick brown fox jumped over a lazy dog\"\n",
    "import re \n",
    "regex = re.compile('\\s+')\n",
    "regex.split(a)\n",
    "# compiled a regular (re) expression, then used to split the string.\n",
    "# \"\\s+\" has \\s which is a spectial character that matches with any whitespace (space, tab). The + is a character that indicates one or more of the entity preceding it, therefore to match substrings\n",
    "\n",
    "#using match() to find out if the beginning matches the pattern of starting with a space, based on the compiler of what regex is\n",
    "print(\"\\n\")\n",
    "for s in [\"   \", \"abc  \", \"   abc\", \"ccc   \", \" hello \"]:\n",
    "    if regex.match(s):\n",
    "        print(repr(s), \"matches\") #repr() is basically a debugging version of str()\n",
    "    else:\n",
    "        print(repr(s), \"does not match\")\n",
    "\n",
    "regex2 = re.compile('fox')\n",
    "regex2.sub('BEAR', a)            \n"
   ]
  },
  {
   "cell_type": "code",
   "execution_count": 370,
   "metadata": {},
   "outputs": [
    {
     "name": "stdout",
     "output_type": "stream",
     "text": [
      "a\tb\tc\n",
      "a\\tb\\tc\n"
     ]
    },
    {
     "data": {
      "text/plain": [
       "{'user': 'guido', 'domain': 'python', 'suffix': 'org'}"
      ]
     },
     "execution_count": 370,
     "metadata": {},
     "output_type": "execute_result"
    }
   ],
   "source": [
    "# more sophisticated examples with strings: matching emails\n",
    "email = re.compile(\"\\w+@\\w+\\.[a-z]{3}\")\n",
    "text = \"To email Guido, try guido@python.org or the older address guido@google.com.\"\n",
    "email.findall(text) #to find in string\n",
    "email.sub('__@--.--', text) #to replace them out\n",
    "#but the compiler above is far too simple and doesn't work for ex with emails with .\n",
    "email.findall(\"barack.obama@whitehouse.gov\")\n",
    "\n",
    "#for all emails :)\n",
    "email2 = re.compile(\"^(?ismx)[A-z 0-9._%+-]+@[A-Z 0-9.-]+\\.[a-z]{2,}$\")\n",
    "email2.findall(\"barack.obama@whitehouse.gov\")\n",
    "\n",
    "# match exact string\n",
    "regex = re.compile(\"ion\")\n",
    "regex.findall(\"Great Expectations\")\n",
    "\n",
    "# characters with special meaning: . ^ $ * + ? { } [ ] \\ | ( )\n",
    "regex = re.compile(r'\\$')\n",
    "regex.findall(\"the cost is $20\")\n",
    "print(\"a\\tb\\tc\")\n",
    "print(r\"a\\tb\\tc\") #raw string: no substitutions using special characters\n",
    "regex = re.compile(r'\\w\\s\\w') #w = any alphanumerical, s=space\n",
    "regex.findall('the fox is 9 years old')\n",
    "#removing all the vowels\n",
    "regex = re.compile('[aeiou]') #[] to specify any set of characters\n",
    "regex.split('consequential')\n",
    "#first few characters of words >=3 letters\n",
    "regex = re.compile(r'\\w{3}')\n",
    "regex.findall('The quick brown fox has some aa 9 lives')\n",
    "\n",
    "email2 = re.compile(r'[\\w.]+@\\w+\\.[a-z]{3}') #now with the [] it has an embedded 'or'\n",
    "email2.findall('barack.obama@whitehouse.gov')\n",
    "\n",
    "email3 = re.compile(r'([\\w.]+)@(\\w+)\\.([a-z]{3})') #parentheses for components\n",
    "email3.findall(text)\n",
    "\n",
    "email4 = re.compile(r'(?P<user>[\\w.]+)@(?P<domain>\\w+)\\.(?P<suffix>[a-z]{3})') #naming the components directly in the compiler definition\n",
    "match = email4.match('guido@python.org')\n",
    "match.groupdict()\n"
   ]
  },
  {
   "cell_type": "code",
   "execution_count": null,
   "metadata": {},
   "outputs": [],
   "source": []
  }
 ],
 "metadata": {
  "kernelspec": {
   "display_name": "Python 3",
   "language": "python",
   "name": "python3"
  },
  "language_info": {
   "codemirror_mode": {
    "name": "ipython",
    "version": 3
   },
   "file_extension": ".py",
   "mimetype": "text/x-python",
   "name": "python",
   "nbconvert_exporter": "python",
   "pygments_lexer": "ipython3",
   "version": "3.6.5"
  }
 },
 "nbformat": 4,
 "nbformat_minor": 2
}
